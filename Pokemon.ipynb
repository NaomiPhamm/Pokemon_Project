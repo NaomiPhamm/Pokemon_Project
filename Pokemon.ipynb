{
 "cells": [
  {
   "cell_type": "code",
   "execution_count": null,
   "id": "7b15affc-6aee-43e1-ac15-dca23b1eef57",
   "metadata": {},
   "outputs": [],
   "source": [
    "# A list of tuples\n",
    "# Data is available on Teams (Week 08)\n",
    "pokemon_data = [\n",
    "    (\"Pikachu\", \"Electric\", 35, 55, 40, 90),\n",
    "    (\"Charizard\", \"Fire/Flying\", 78, 84, 78, 100),\n",
    "    (\"Blastoise\", \"Water\", 79, 83, 100, 78),\n",
    "    (\"Venusaur\", \"Grass/Poison\", 80, 82, 83, 80),\n",
    "    (\"Gengar\", \"Ghost/Poison\", 60, 65, 60, 110)\n",
    "]\n",
    "\n",
    "def format_pokemon_info(pokemon_tuple):\n",
    "    name, poke_type,*_ = pokemon_tuple\n",
    "    return f\"{name} is a {poke_type} type pokemon.\"\n",
    "\n",
    "def get_speed(pokemon):\n",
    "    return pokemon[\"speed\"]\n",
    "## Demo area\n",
    "for pokemon in pokemon_data:\n",
    "    print(format_pokemon_info(pokemon))\n"
   ]
  },
  {
   "cell_type": "code",
   "execution_count": null,
   "id": "ec338f2f-09a9-4653-8f56-9597a0388373",
   "metadata": {},
   "outputs": [],
   "source": [
    "# Problem 2: Finding Pokemon with the highest speed\n",
    "def get_speed(pokemon):\n",
    "    return pokemon[\"speed\"]\n",
    "\n",
    "# Demo: Find the fastest Pokemon\n",
    "pokemon_speed_list = [\n",
    "    {\"name\": \"Pikachu\", \"speed\": 90},\n",
    "    {\"name\": \"Charizard\", \"speed\": 100},\n",
    "    {\"name\": \"Gengar\", \"speed\": 110},\n",
    "    {\"name\": \"Bulbasaur\", \"speed\": 45}\n",
    "]\n",
    "\n",
    "fastest_pokemon = max(pokemon_speed_list, key=get_speed)\n",
    "print(f\"The fastest Pokemon is {fastest_pokemon['name']} with a speed of {fastest_pokemon['speed']}.\")\n"
   ]
  },
  {
   "cell_type": "code",
   "execution_count": null,
   "id": "ced0dbcb-6e55-47e0-9427-2feffacb86f0",
   "metadata": {},
   "outputs": [],
   "source": [
    "# Problem 3: Calculate the average HP\n",
    "def calculate_average_hp(pokemon_data):\n",
    "    total_hp = sum(pokemon[2] for pokemon in pokemon_data)  # HP is the 3rd element in the tuple\n",
    "    return total_hp / len(pokemon_data)\n",
    "\n",
    "# Demo: Calculate average HP\n",
    "average_hp = calculate_average_hp(pokemon_data)\n",
    "print(f\"The average HP of all Pokemon is {average_hp:.1f}.\")\n"
   ]
  },
  {
   "cell_type": "code",
   "execution_count": null,
   "id": "ad274003-5e3b-4ba9-8d95-f972affddb7a",
   "metadata": {},
   "outputs": [],
   "source": [
    "# Problem 4: Sorting Pokemon by total stats\n",
    "def get_total_stats(pokemon_tuple):\n",
    "    hp, attack, defense, speed = pokemon_tuple[2], pokemon_tuple[3], pokemon_tuple[4], pokemon_tuple[5]\n",
    "    return hp + attack + defense + speed\n",
    "\n",
    "# Demo: Create a list of tuples containing name and total stats\n",
    "stats_list = [(pokemon[0], get_total_stats(pokemon)) for pokemon in pokemon_data]\n",
    "\n",
    "# Sort the list by total stats in descending order\n",
    "sorted_stats_list = sorted(stats_list, key=lambda x: x[1], reverse=True)\n",
    "print(sorted_stats_list)\n"
   ]
  },
  {
   "cell_type": "code",
   "execution_count": null,
   "id": "760f5b27-453c-4d12-9ba4-e1b8dd6c21e2",
   "metadata": {},
   "outputs": [],
   "source": []
  },
  {
   "cell_type": "code",
   "execution_count": null,
   "id": "2243ab12-207f-4292-bac1-3b313dcfcb0f",
   "metadata": {},
   "outputs": [],
   "source": []
  }
 ],
 "metadata": {
  "kernelspec": {
   "display_name": "Python 3 (ipykernel)",
   "language": "python",
   "name": "python3"
  },
  "language_info": {
   "codemirror_mode": {
    "name": "ipython",
    "version": 3
   },
   "file_extension": ".py",
   "mimetype": "text/x-python",
   "name": "python",
   "nbconvert_exporter": "python",
   "pygments_lexer": "ipython3",
   "version": "3.12.4"
  }
 },
 "nbformat": 4,
 "nbformat_minor": 5
}
